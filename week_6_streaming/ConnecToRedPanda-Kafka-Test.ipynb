{
 "cells": [
  {
   "cell_type": "code",
   "execution_count": 1,
   "id": "38a21c84-d4ed-468f-acaa-c35142785804",
   "metadata": {},
   "outputs": [],
   "source": [
    "import json\n",
    "import time "
   ]
  },
  {
   "cell_type": "markdown",
   "id": "c8088c24-cc4b-4fc9-bc93-98ed6268039a",
   "metadata": {},
   "source": [
    "## Check connection to kafka"
   ]
  },
  {
   "cell_type": "code",
   "execution_count": 2,
   "id": "b70d3a18-4136-4554-9f4d-6dd6f2f90e89",
   "metadata": {},
   "outputs": [
    {
     "data": {
      "text/plain": [
       "True"
      ]
     },
     "execution_count": 2,
     "metadata": {},
     "output_type": "execute_result"
    }
   ],
   "source": [
    "\n",
    "\n",
    "from kafka import KafkaProducer\n",
    "\n",
    "def json_serializer(data):\n",
    "    return json.dumps(data).encode('utf-8')\n",
    "\n",
    "server = 'localhost:9092'\n",
    "\n",
    "producer = KafkaProducer(\n",
    "    bootstrap_servers=[server],\n",
    "    value_serializer=json_serializer\n",
    ")\n",
    "\n",
    "producer.bootstrap_connected()"
   ]
  },
  {
   "cell_type": "markdown",
   "id": "f6bc07a3-39b2-4345-bc79-874b33261488",
   "metadata": {},
   "source": [
    "# Send test data"
   ]
  },
  {
   "cell_type": "code",
   "execution_count": 5,
   "id": "b3a19e3b-7130-469a-acc6-ba813de87ba5",
   "metadata": {},
   "outputs": [
    {
     "name": "stdout",
     "output_type": "stream",
     "text": [
      "starting loop took 0.00 seconds\n",
      "time to send 0.00 seconds\n",
      "Sent: {'number': 0}\n",
      "loop took 0.05 seconds\n",
      "time to send 0.00 seconds\n",
      "Sent: {'number': 1}\n",
      "loop took 0.05 seconds\n",
      "time to send 0.00 seconds\n",
      "Sent: {'number': 2}\n",
      "loop took 0.05 seconds\n",
      "time to send 0.00 seconds\n",
      "Sent: {'number': 3}\n",
      "loop took 0.05 seconds\n",
      "time to send 0.00 seconds\n",
      "Sent: {'number': 4}\n",
      "loop took 0.05 seconds\n",
      "time to send 0.00 seconds\n",
      "Sent: {'number': 5}\n",
      "loop took 0.05 seconds\n",
      "time to send 0.00 seconds\n",
      "Sent: {'number': 6}\n",
      "loop took 0.05 seconds\n",
      "time to send 0.00 seconds\n",
      "Sent: {'number': 7}\n",
      "loop took 0.05 seconds\n",
      "time to send 0.00 seconds\n",
      "Sent: {'number': 8}\n",
      "loop took 0.05 seconds\n",
      "time to send 0.00 seconds\n",
      "Sent: {'number': 9}\n",
      "loop took 0.05 seconds\n",
      "flush took 0.00 seconds\n",
      "end-end took 0.52 seconds\n"
     ]
    }
   ],
   "source": [
    "t0 = time.time()\n",
    "\n",
    "t00 = time.time()\n",
    "topic_name = 'test-topic'\n",
    "print(f'starting loop took {(t00-t0):.2f} seconds')\n",
    "for i in range(10):\n",
    "    message = {'number': i}\n",
    "    t01 = time.time()\n",
    "    producer.send(topic_name, value=message)\n",
    "    t02 = time.time()\n",
    "    print(f'time to send {(t02 - t01):.2f} seconds')\n",
    "    print(f\"Sent: {message}\")\n",
    "    time.sleep(0.05)\n",
    "    t2 = time.time()\n",
    "    print(f'loop took {(t2 - t00):.2f} seconds')\n",
    "    t00 = t2\n",
    "producer.flush()\n",
    "t3 = time.time()\n",
    "print(f'flush took {(t3 - t2):.2f} seconds')\n",
    "t1 = time.time()\n",
    "print(f'end-end took {(t1 - t0):.2f} seconds')"
   ]
  },
  {
   "cell_type": "code",
   "execution_count": null,
   "id": "a08445c6-bdca-4190-b86d-7d5b31984c0d",
   "metadata": {},
   "outputs": [],
   "source": []
  }
 ],
 "metadata": {
  "kernelspec": {
   "display_name": "Python 3 (ipykernel)",
   "language": "python",
   "name": "python3"
  },
  "language_info": {
   "codemirror_mode": {
    "name": "ipython",
    "version": 3
   },
   "file_extension": ".py",
   "mimetype": "text/x-python",
   "name": "python",
   "nbconvert_exporter": "python",
   "pygments_lexer": "ipython3",
   "version": "3.7.16"
  }
 },
 "nbformat": 4,
 "nbformat_minor": 5
}
