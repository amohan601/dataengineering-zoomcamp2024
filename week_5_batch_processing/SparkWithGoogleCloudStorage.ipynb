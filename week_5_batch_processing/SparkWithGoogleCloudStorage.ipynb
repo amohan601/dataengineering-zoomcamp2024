{
 "cells": [
  {
   "cell_type": "code",
   "execution_count": 1,
   "id": "8456597d-4a89-4bfe-adbe-5a01b85d3a94",
   "metadata": {},
   "outputs": [],
   "source": [
    "import pyspark\n",
    "from pyspark.sql import SparkSession\n",
    "from pyspark.conf import SparkConf\n",
    "from pyspark.context import SparkContext"
   ]
  },
  {
   "cell_type": "code",
   "execution_count": 3,
   "id": "7b1a79c2-4649-4861-8f9f-18e1afdfbdba",
   "metadata": {},
   "outputs": [],
   "source": [
    "credentials_location = 'gcp-creds.json'\n",
    "\n",
    "conf = SparkConf() \\\n",
    "    .setMaster('local[*]') \\\n",
    "    .setAppName('test') \\\n",
    "    .set(\"spark.jars\", \"./lib/gcs-connector-hadoop3-2.2.5.jar\") \\\n",
    "    .set(\"spark.hadoop.google.cloud.auth.service.account.enable\", \"true\") \\\n",
    "    .set(\"spark.hadoop.google.cloud.auth.service.account.json.keyfile\", credentials_location)"
   ]
  },
  {
   "cell_type": "code",
   "execution_count": 5,
   "id": "e553347a-3c96-4dbb-84df-ddc06fcca946",
   "metadata": {},
   "outputs": [
    {
     "name": "stderr",
     "output_type": "stream",
     "text": [
      "24/03/03 17:01:14 WARN NativeCodeLoader: Unable to load native-hadoop library for your platform... using builtin-java classes where applicable\n",
      "Setting default log level to \"WARN\".\n",
      "To adjust logging level use sc.setLogLevel(newLevel). For SparkR, use setLogLevel(newLevel).\n",
      "24/03/03 17:01:15 WARN Utils: Service 'SparkUI' could not bind on port 4040. Attempting port 4041.\n",
      "24/03/03 17:01:15 WARN Utils: Service 'SparkUI' could not bind on port 4041. Attempting port 4042.\n",
      "24/03/03 17:01:15 WARN Utils: Service 'SparkUI' could not bind on port 4042. Attempting port 4043.\n"
     ]
    }
   ],
   "source": [
    "sc = SparkContext(conf=conf)\n",
    "\n",
    "hadoop_conf = sc._jsc.hadoopConfiguration()\n",
    "\n",
    "hadoop_conf.set(\"fs.AbstractFileSystem.gs.impl\",  \"com.google.cloud.hadoop.fs.gcs.GoogleHadoopFS\")\n",
    "hadoop_conf.set(\"fs.gs.impl\", \"com.google.cloud.hadoop.fs.gcs.GoogleHadoopFileSystem\")\n",
    "hadoop_conf.set(\"fs.gs.auth.service.account.json.keyfile\", credentials_location)\n",
    "hadoop_conf.set(\"fs.gs.auth.service.account.enable\", \"true\")"
   ]
  },
  {
   "cell_type": "code",
   "execution_count": 7,
   "id": "f99ff7a3-cf7f-4913-84cd-a613f7e23b26",
   "metadata": {},
   "outputs": [],
   "source": [
    "spark = SparkSession.builder \\\n",
    "    .config(conf=sc.getConf()) \\\n",
    "    .getOrCreate()"
   ]
  },
  {
   "cell_type": "markdown",
   "id": "f61ee29c-a677-417a-b8bd-351cc1e5a55e",
   "metadata": {},
   "source": [
    "### green data"
   ]
  },
  {
   "cell_type": "code",
   "execution_count": 11,
   "id": "da68ad20-ed57-472d-b571-e33f672733d0",
   "metadata": {},
   "outputs": [
    {
     "name": "stderr",
     "output_type": "stream",
     "text": [
      "                                                                                \r"
     ]
    }
   ],
   "source": [
    "df_green = spark.read.parquet('gs://spark_gcs_test_module5/pq/green/*/*')"
   ]
  },
  {
   "cell_type": "code",
   "execution_count": 13,
   "id": "b6ba07ec-42e0-4478-8fa6-d1491a5d5ff8",
   "metadata": {},
   "outputs": [],
   "source": [
    "df_green.createOrReplaceTempView('green')\n"
   ]
  },
  {
   "cell_type": "code",
   "execution_count": 15,
   "id": "1e0d914b-57ab-466a-a85f-108a6dff1b26",
   "metadata": {},
   "outputs": [],
   "source": [
    "df_green_revenue = spark.sql(\"\"\"\n",
    "SELECT \n",
    "    date_trunc('hour', lpep_pickup_datetime) AS hour, \n",
    "    PULocationID AS zone,\n",
    "\n",
    "    SUM(total_amount) AS amount,\n",
    "    COUNT(1) AS number_records\n",
    "FROM\n",
    "    green\n",
    "WHERE\n",
    "    lpep_pickup_datetime >= '2020-01-01 00:00:00'\n",
    "GROUP BY\n",
    "    1, 2\n",
    "\"\"\")"
   ]
  },
  {
   "cell_type": "code",
   "execution_count": 17,
   "id": "b3d01ef8-df05-43f2-82bc-9e2447ed00ba",
   "metadata": {},
   "outputs": [
    {
     "name": "stderr",
     "output_type": "stream",
     "text": [
      "                                                                                \r"
     ]
    },
    {
     "name": "stdout",
     "output_type": "stream",
     "text": [
      "+-------------------+----+------------------+--------------+\n",
      "|               hour|zone|            amount|number_records|\n",
      "+-------------------+----+------------------+--------------+\n",
      "|2020-01-06 07:00:00| 241|            169.16|             6|\n",
      "|2020-01-19 19:00:00|  41| 457.2400000000003|            43|\n",
      "|2020-01-23 23:00:00| 129| 304.1300000000001|            22|\n",
      "|2020-01-28 15:00:00| 129|            208.23|             9|\n",
      "|2020-01-02 08:00:00|  74|1187.4199999999987|            96|\n",
      "|2020-01-06 16:00:00| 129|250.42000000000002|            15|\n",
      "|2020-01-07 10:00:00| 171|             38.98|             2|\n",
      "|2020-01-09 15:00:00| 260| 242.6800000000001|            19|\n",
      "|2020-01-16 20:00:00|  82| 424.1900000000001|            27|\n",
      "|2020-01-21 16:00:00|  33| 917.3599999999994|            38|\n",
      "|2020-01-08 17:00:00| 140|            313.81|             8|\n",
      "|2020-01-22 08:00:00| 244| 285.3999999999999|            14|\n",
      "|2020-01-30 14:00:00|  74| 738.6799999999996|            49|\n",
      "|2020-01-03 07:00:00|  74| 918.9199999999993|            66|\n",
      "|2020-01-11 13:00:00|  41| 859.2399999999992|            63|\n",
      "|2020-01-16 15:00:00|  65| 376.4800000000001|            17|\n",
      "|2020-01-15 17:00:00| 247|            121.57|             4|\n",
      "|2020-01-05 18:00:00|  97| 513.1700000000002|            42|\n",
      "|2020-01-03 11:00:00|  85|            162.22|             6|\n",
      "|2020-01-28 13:00:00|  58|62.269999999999996|             2|\n",
      "+-------------------+----+------------------+--------------+\n",
      "only showing top 20 rows\n",
      "\n"
     ]
    }
   ],
   "source": [
    "df_green_revenue.show()"
   ]
  },
  {
   "cell_type": "code",
   "execution_count": 19,
   "id": "71ea7dba-4752-406f-8947-14257dcc14da",
   "metadata": {},
   "outputs": [
    {
     "name": "stderr",
     "output_type": "stream",
     "text": [
      "24/03/03 17:03:16 WARN MemoryManager: Total allocation exceeds 95.00% (1,020,054,720 bytes) of heap memory\n",
      "Scaling row group sizes to 95.00% for 8 writers\n",
      "                                                                                \r"
     ]
    }
   ],
   "source": [
    "df_green_revenue \\\n",
    "    .repartition(20) \\\n",
    "    .write.parquet('gs://spark_gcs_test_module5/report/revenue/green', mode='overwrite')"
   ]
  },
  {
   "cell_type": "markdown",
   "id": "c4db3a55-d6d4-4e99-af48-e7f819cb4b3e",
   "metadata": {},
   "source": [
    "#### yellow data"
   ]
  },
  {
   "cell_type": "code",
   "execution_count": 21,
   "id": "e0e57396-56d6-4fdc-bb33-738588999c21",
   "metadata": {},
   "outputs": [
    {
     "name": "stderr",
     "output_type": "stream",
     "text": [
      "/Users/amohan/opt/anaconda3/envs/learn/lib/python3.9/site-packages/pyspark/sql/dataframe.py:329: FutureWarning: Deprecated in 2.0, use createOrReplaceTempView instead.\n",
      "  warnings.warn(\"Deprecated in 2.0, use createOrReplaceTempView instead.\", FutureWarning)\n"
     ]
    }
   ],
   "source": [
    "df_yellow = spark.read.parquet('gs://spark_gcs_test_module5/pq/yellow/*/*')\n",
    "df_yellow.registerTempTable('yellow')"
   ]
  },
  {
   "cell_type": "code",
   "execution_count": 22,
   "id": "5150a966-61cb-4836-88ca-8cbce81473eb",
   "metadata": {},
   "outputs": [],
   "source": [
    "df_yellow_revenue = spark.sql(\"\"\"\n",
    "SELECT \n",
    "    date_trunc('hour', tpep_pickup_datetime) AS hour, \n",
    "    PULocationID AS zone,\n",
    "\n",
    "    SUM(total_amount) AS amount,\n",
    "    COUNT(1) AS number_records\n",
    "FROM\n",
    "    yellow\n",
    "WHERE\n",
    "    tpep_pickup_datetime >= '2020-01-01 00:00:00'\n",
    "GROUP BY\n",
    "    1, 2\n",
    "\"\"\")"
   ]
  },
  {
   "cell_type": "code",
   "execution_count": 25,
   "id": "78ec82b2-b62a-4513-ae73-0cdb55e8cabb",
   "metadata": {},
   "outputs": [
    {
     "name": "stderr",
     "output_type": "stream",
     "text": [
      "[Stage 11:===================================================>    (11 + 1) / 12]\r"
     ]
    },
    {
     "name": "stdout",
     "output_type": "stream",
     "text": [
      "+-------------------+----+------------------+--------------+\n",
      "|               hour|zone|            amount|number_records|\n",
      "+-------------------+----+------------------+--------------+\n",
      "|2020-01-25 01:00:00| 186|2287.5599999999986|           128|\n",
      "|2020-01-24 07:00:00| 186| 7247.550000000012|           483|\n",
      "|2020-01-04 18:00:00| 161| 7807.060000000018|           487|\n",
      "|2020-01-03 12:00:00| 186| 7301.100000000017|           418|\n",
      "|2020-01-22 19:00:00| 140|           4461.66|           263|\n",
      "|2020-01-21 13:00:00| 162| 8327.450000000013|           491|\n",
      "|2020-01-06 20:00:00| 234|5267.8600000000015|           333|\n",
      "|2020-01-23 12:00:00| 233| 3545.589999999998|           184|\n",
      "|2020-01-15 13:00:00| 239| 4100.529999999999|           289|\n",
      "|2020-01-17 08:00:00| 170| 7410.990000000011|           475|\n",
      "|2020-01-22 21:00:00|  79| 6247.700000000006|           358|\n",
      "|2020-01-15 15:00:00| 239| 5217.580000000002|           344|\n",
      "|2020-01-11 18:00:00| 236| 9088.440000000017|           612|\n",
      "|2020-01-12 17:00:00| 237|6503.3900000000085|           480|\n",
      "|2020-01-03 13:00:00| 142| 5254.490000000004|           327|\n",
      "|2020-01-21 07:00:00| 152|            182.22|            10|\n",
      "|2020-01-18 21:00:00| 234|3880.4599999999964|           248|\n",
      "|2020-01-23 09:00:00| 142|           4948.51|           326|\n",
      "|2020-01-03 11:00:00| 132| 9066.160000000007|           177|\n",
      "|2020-01-21 20:00:00| 141|3764.1099999999956|           249|\n",
      "+-------------------+----+------------------+--------------+\n",
      "only showing top 20 rows\n",
      "\n"
     ]
    },
    {
     "name": "stderr",
     "output_type": "stream",
     "text": [
      "                                                                                \r"
     ]
    }
   ],
   "source": [
    "df_yellow_revenue.show()"
   ]
  },
  {
   "cell_type": "code",
   "execution_count": 27,
   "id": "bb3a052a-61f0-49cf-b818-354434538fad",
   "metadata": {},
   "outputs": [
    {
     "name": "stderr",
     "output_type": "stream",
     "text": [
      "24/03/03 17:05:03 WARN MemoryManager: Total allocation exceeds 95.00% (1,020,054,720 bytes) of heap memory\n",
      "Scaling row group sizes to 95.00% for 8 writers\n",
      "                                                                                \r"
     ]
    }
   ],
   "source": [
    "df_yellow_revenue \\\n",
    "    .repartition(20) \\\n",
    "    .write.parquet('gs://spark_gcs_test_module5/report/revenue/yellow', mode='overwrite')"
   ]
  },
  {
   "cell_type": "code",
   "execution_count": null,
   "id": "a6fa7575-f057-458a-9127-2f51b8fc051d",
   "metadata": {},
   "outputs": [],
   "source": []
  }
 ],
 "metadata": {
  "kernelspec": {
   "display_name": "Python 3 (ipykernel)",
   "language": "python",
   "name": "python3"
  },
  "language_info": {
   "codemirror_mode": {
    "name": "ipython",
    "version": 3
   },
   "file_extension": ".py",
   "mimetype": "text/x-python",
   "name": "python",
   "nbconvert_exporter": "python",
   "pygments_lexer": "ipython3",
   "version": "3.9.18"
  }
 },
 "nbformat": 4,
 "nbformat_minor": 5
}
