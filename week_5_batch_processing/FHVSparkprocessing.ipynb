{
 "cells": [
  {
   "cell_type": "markdown",
   "id": "62c44b75-88b8-4ee2-b88e-fff292855329",
   "metadata": {},
   "source": [
    "#### https://github.com/DataTalksClub/nyc-tlc-data/releases/download/fhv/fhv_tripdata_2019-10.csv.gz"
   ]
  },
  {
   "cell_type": "markdown",
   "id": "76cbab1f-22ac-48a5-8c52-0b967a2cbe08",
   "metadata": {},
   "source": [
    "#### Example for processing FHV Taxi data (Week 5 homework)"
   ]
  },
  {
   "cell_type": "code",
   "execution_count": 30,
   "id": "d8c6112a-ec8e-4745-93cb-ca285fb546e1",
   "metadata": {},
   "outputs": [],
   "source": [
    "import pyspark\n",
    "from pyspark.sql import SparkSession\n",
    "import pandas as pd\n",
    "from pyspark.sql import types\n",
    "from pyspark.sql import functions as F"
   ]
  },
  {
   "cell_type": "code",
   "execution_count": 3,
   "id": "5bf9abcb-2cc0-4d2c-8fa5-0ef08429b696",
   "metadata": {},
   "outputs": [
    {
     "name": "stderr",
     "output_type": "stream",
     "text": [
      "Setting default log level to \"WARN\".\n",
      "To adjust logging level use sc.setLogLevel(newLevel). For SparkR, use setLogLevel(newLevel).\n",
      "24/02/25 22:35:27 WARN NativeCodeLoader: Unable to load native-hadoop library for your platform... using builtin-java classes where applicable\n",
      "24/02/25 22:35:28 WARN Utils: Service 'SparkUI' could not bind on port 4040. Attempting port 4041.\n",
      "24/02/25 22:35:28 WARN Utils: Service 'SparkUI' could not bind on port 4041. Attempting port 4042.\n"
     ]
    },
    {
     "name": "stdout",
     "output_type": "stream",
     "text": [
      "The PySpark 3.5.0 version is running...\n"
     ]
    }
   ],
   "source": [
    "# Create SparkSession\n",
    "spark = SparkSession.builder.master(\"local[*]\") \\\n",
    "                    .appName('fvh-homework-week5-application') \\\n",
    "                    .getOrCreate()\n",
    "\n",
    "print(f'The PySpark {spark.version} version is running...')"
   ]
  },
  {
   "cell_type": "code",
   "execution_count": 5,
   "id": "82378ead-5db4-41e0-aa3b-5028b3d46260",
   "metadata": {},
   "outputs": [
    {
     "data": {
      "text/plain": [
       "StructType([StructField('dispatching_base_num', StringType(), True), StructField('pickup_datetime', StringType(), True), StructField('dropOff_datetime', StringType(), True), StructField('PUlocationID', StringType(), True), StructField('DOlocationID', StringType(), True), StructField('SR_Flag', StringType(), True), StructField('Affiliated_base_number', StringType(), True)])"
      ]
     },
     "execution_count": 5,
     "metadata": {},
     "output_type": "execute_result"
    }
   ],
   "source": [
    "df_fhv = spark.read\\\n",
    "    .option('header','True')\\\n",
    "    .csv('data/raw/fhv/2019/01/fhv_tripdata_2019_01.csv.gz')\n",
    "df_fhv.schema"
   ]
  },
  {
   "cell_type": "code",
   "execution_count": 7,
   "id": "abef7653-8709-495f-b604-a44e59fbc4cb",
   "metadata": {},
   "outputs": [],
   "source": [
    "df_fhv_schema = types.StructType([\n",
    "    types.StructField('dispatching_base_num', types.StringType(), True), \n",
    "    types.StructField('pickup_datetime', types.TimestampType(), True), \n",
    "    types.StructField('dropOff_datetime', types.TimestampType(), True), \n",
    "    types.StructField('PUlocationID', types.IntegerType(), True), \n",
    "    types.StructField('DOlocationID', types.IntegerType(), True), \n",
    "    types.StructField('SR_Flag', types.StringType(), True), \n",
    "    types.StructField('Affiliated_base_number', types.StringType(), True)\n",
    "])"
   ]
  },
  {
   "cell_type": "markdown",
   "id": "c2376944-409f-4f68-8fc8-615227f6104d",
   "metadata": {},
   "source": [
    "### write to parquet by repartition to 6 partitions"
   ]
  },
  {
   "cell_type": "code",
   "execution_count": 10,
   "id": "e56887d4-4cb0-4cd2-ab56-d5c3f955ae23",
   "metadata": {},
   "outputs": [],
   "source": [
    "def write_parquet(file, schema):\n",
    "    years = [2019]\n",
    "    for year in years:\n",
    "        for month in range(10,11):\n",
    "            try:\n",
    "                print(f'processing data for {file} trip data for {year}/{month:02d}')\n",
    "                input_path = f'data/raw/{file}/{year}/{month:02d}'\n",
    "                output_path = f'data/pq/{file}/{year}/{month:02d}'\n",
    "                df = spark.read\\\n",
    "                     .option('header','True')\\\n",
    "                     .schema(schema)\\\n",
    "                     .csv(input_path)\n",
    "                df.repartition(6).write.parquet(output_path, mode='overwrite')  \n",
    "            except:  \n",
    "                print('error occured')\n",
    "    print('write to parquet completed for ',file)"
   ]
  },
  {
   "cell_type": "code",
   "execution_count": 12,
   "id": "45066107-22fa-41ee-b0ad-a6bbcb8574c4",
   "metadata": {},
   "outputs": [
    {
     "name": "stdout",
     "output_type": "stream",
     "text": [
      "processing data for fhv trip data for 2019/01\n"
     ]
    },
    {
     "name": "stderr",
     "output_type": "stream",
     "text": [
      "                                                                                \r"
     ]
    },
    {
     "name": "stdout",
     "output_type": "stream",
     "text": [
      "processing data for fhv trip data for 2019/02\n"
     ]
    },
    {
     "name": "stderr",
     "output_type": "stream",
     "text": [
      "                                                                                \r"
     ]
    },
    {
     "name": "stdout",
     "output_type": "stream",
     "text": [
      "processing data for fhv trip data for 2019/03\n"
     ]
    },
    {
     "name": "stderr",
     "output_type": "stream",
     "text": [
      "                                                                                \r"
     ]
    },
    {
     "name": "stdout",
     "output_type": "stream",
     "text": [
      "processing data for fhv trip data for 2019/04\n"
     ]
    },
    {
     "name": "stderr",
     "output_type": "stream",
     "text": [
      "                                                                                \r"
     ]
    },
    {
     "name": "stdout",
     "output_type": "stream",
     "text": [
      "processing data for fhv trip data for 2019/05\n"
     ]
    },
    {
     "name": "stderr",
     "output_type": "stream",
     "text": [
      "                                                                                \r"
     ]
    },
    {
     "name": "stdout",
     "output_type": "stream",
     "text": [
      "processing data for fhv trip data for 2019/06\n"
     ]
    },
    {
     "name": "stderr",
     "output_type": "stream",
     "text": [
      "                                                                                \r"
     ]
    },
    {
     "name": "stdout",
     "output_type": "stream",
     "text": [
      "processing data for fhv trip data for 2019/07\n"
     ]
    },
    {
     "name": "stderr",
     "output_type": "stream",
     "text": [
      "                                                                                \r"
     ]
    },
    {
     "name": "stdout",
     "output_type": "stream",
     "text": [
      "processing data for fhv trip data for 2019/08\n"
     ]
    },
    {
     "name": "stderr",
     "output_type": "stream",
     "text": [
      "                                                                                \r"
     ]
    },
    {
     "name": "stdout",
     "output_type": "stream",
     "text": [
      "processing data for fhv trip data for 2019/09\n"
     ]
    },
    {
     "name": "stderr",
     "output_type": "stream",
     "text": [
      "                                                                                \r"
     ]
    },
    {
     "name": "stdout",
     "output_type": "stream",
     "text": [
      "processing data for fhv trip data for 2019/10\n"
     ]
    },
    {
     "name": "stderr",
     "output_type": "stream",
     "text": [
      "                                                                                \r"
     ]
    },
    {
     "name": "stdout",
     "output_type": "stream",
     "text": [
      "processing data for fhv trip data for 2019/11\n"
     ]
    },
    {
     "name": "stderr",
     "output_type": "stream",
     "text": [
      "                                                                                \r"
     ]
    },
    {
     "name": "stdout",
     "output_type": "stream",
     "text": [
      "processing data for fhv trip data for 2019/12\n"
     ]
    },
    {
     "name": "stderr",
     "output_type": "stream",
     "text": [
      "[Stage 36:>                                                         (0 + 6) / 6]\r"
     ]
    },
    {
     "name": "stdout",
     "output_type": "stream",
     "text": [
      "write to parquet completed for  fhv\n"
     ]
    },
    {
     "name": "stderr",
     "output_type": "stream",
     "text": [
      "                                                                                \r"
     ]
    }
   ],
   "source": [
    "write_parquet('fhv',df_fhv_schema)"
   ]
  },
  {
   "cell_type": "markdown",
   "id": "10369071-5cb0-4881-a631-cb23408f981c",
   "metadata": {},
   "source": [
    "### average file size"
   ]
  },
  {
   "cell_type": "code",
   "execution_count": 178,
   "id": "36ab13f4-7b9c-4f12-b418-1048cb3fb3f4",
   "metadata": {},
   "outputs": [
    {
     "name": "stdout",
     "output_type": "stream",
     "text": [
      "  0B\tdata/pq/fhv/2019/10/_SUCCESS\n",
      "7.1M\tdata/pq/fhv/2019/10/part-00000-076e2dfb-9ec2-4121-8581-5e27131160b5-c000.snappy.parquet\n",
      "7.1M\tdata/pq/fhv/2019/10/part-00001-076e2dfb-9ec2-4121-8581-5e27131160b5-c000.snappy.parquet\n",
      "7.1M\tdata/pq/fhv/2019/10/part-00002-076e2dfb-9ec2-4121-8581-5e27131160b5-c000.snappy.parquet\n",
      "7.1M\tdata/pq/fhv/2019/10/part-00003-076e2dfb-9ec2-4121-8581-5e27131160b5-c000.snappy.parquet\n",
      "7.1M\tdata/pq/fhv/2019/10/part-00004-076e2dfb-9ec2-4121-8581-5e27131160b5-c000.snappy.parquet\n",
      "7.1M\tdata/pq/fhv/2019/10/part-00005-076e2dfb-9ec2-4121-8581-5e27131160b5-c000.snappy.parquet\n"
     ]
    }
   ],
   "source": [
    "!du -h data/pq/fhv/2019/10/*"
   ]
  },
  {
   "cell_type": "markdown",
   "id": "18dfe4e7-9c49-460a-85e3-1880b93430a8",
   "metadata": {},
   "source": [
    "### count of taxi trips for 15th october"
   ]
  },
  {
   "cell_type": "code",
   "execution_count": 180,
   "id": "361fcf72-29ca-47ff-9eb9-3b09c9ba73ed",
   "metadata": {},
   "outputs": [],
   "source": [
    "df_fhv = spark.read.parquet('data/pq/fhv/2019/10')"
   ]
  },
  {
   "cell_type": "code",
   "execution_count": 182,
   "id": "f395a131-5f5c-4fd2-9c56-8e4ffbeba388",
   "metadata": {},
   "outputs": [
    {
     "data": {
      "text/plain": [
       "['dispatching_base_num',\n",
       " 'pickup_datetime',\n",
       " 'dropOff_datetime',\n",
       " 'PUlocationID',\n",
       " 'DOlocationID',\n",
       " 'SR_Flag',\n",
       " 'Affiliated_base_number']"
      ]
     },
     "execution_count": 182,
     "metadata": {},
     "output_type": "execute_result"
    }
   ],
   "source": [
    "df_fhv.columns"
   ]
  },
  {
   "cell_type": "code",
   "execution_count": 184,
   "id": "c0bad56a-603b-400f-bf09-bb5e685a8865",
   "metadata": {},
   "outputs": [
    {
     "name": "stdout",
     "output_type": "stream",
     "text": [
      "+--------------------+-------------------+-------------------+------------+------------+-------+----------------------+\n",
      "|dispatching_base_num|    pickup_datetime|   dropOff_datetime|PUlocationID|DOlocationID|SR_Flag|Affiliated_base_number|\n",
      "+--------------------+-------------------+-------------------+------------+------------+-------+----------------------+\n",
      "|              B02594|2019-10-19 12:32:00|2019-10-19 13:03:00|         157|         133|   NULL|                B02594|\n",
      "|              B00647|2019-10-07 19:26:49|2019-10-07 19:42:43|         264|          78|   NULL|                B00647|\n",
      "|              B01145|2019-10-20 02:30:04|2019-10-20 02:37:54|         264|         244|   NULL|                B01145|\n",
      "|              B03060|2019-10-13 18:58:21|2019-10-13 19:11:24|         264|         123|   NULL|                B02888|\n",
      "|              B02418|2019-10-07 21:40:00|2019-10-07 22:22:00|         264|         264|   NULL|                B00280|\n",
      "+--------------------+-------------------+-------------------+------------+------------+-------+----------------------+\n",
      "only showing top 5 rows\n",
      "\n"
     ]
    }
   ],
   "source": [
    "df_fhv.show(5)"
   ]
  },
  {
   "cell_type": "code",
   "execution_count": 186,
   "id": "98e64a65-bae1-4ae4-95aa-b23e5d80b84b",
   "metadata": {},
   "outputs": [
    {
     "data": {
      "text/plain": [
       "62610"
      ]
     },
     "execution_count": 186,
     "metadata": {},
     "output_type": "execute_result"
    }
   ],
   "source": [
    "df_fhv\\\n",
    "    .filter(F.to_date(df_fhv.pickup_datetime) == '2019-10-15')\\\n",
    "    .count()"
   ]
  },
  {
   "cell_type": "markdown",
   "id": "f3c32d9d-df50-493b-a6ca-93e887061529",
   "metadata": {},
   "source": [
    "### What is the length of the longest trip in the dataset in hours?"
   ]
  },
  {
   "cell_type": "code",
   "execution_count": 188,
   "id": "08a43679-4cd4-4bb7-a106-a7c98191132d",
   "metadata": {},
   "outputs": [],
   "source": [
    "df_fhv.createOrReplaceTempView('fhv_trips_data')"
   ]
  },
  {
   "cell_type": "code",
   "execution_count": 208,
   "id": "8894585d-63d8-416f-9855-04261be01631",
   "metadata": {},
   "outputs": [
    {
     "name": "stdout",
     "output_type": "stream",
     "text": [
      "+------------------+\n",
      "|longest_trip_hours|\n",
      "+------------------+\n",
      "|            631152|\n",
      "+------------------+\n",
      "\n"
     ]
    }
   ],
   "source": [
    "spark.sql(\"\"\"\n",
    "SELECT MAX(TIMESTAMPDIFF(HOUR, pickup_datetime, dropoff_datetime)) AS longest_trip_hours from fhv_trips_data \n",
    "WHERE MONTH(pickup_datetime) = 10\n",
    "\"\"\").show()"
   ]
  },
  {
   "cell_type": "markdown",
   "id": "c3af2b24-9645-4b15-ac88-7faff9d15190",
   "metadata": {},
   "source": [
    "### Load taxi zone lookup data to spark df"
   ]
  },
  {
   "cell_type": "code",
   "execution_count": 35,
   "id": "b881bcae-0a33-40b7-a0c5-0e300713c4ed",
   "metadata": {},
   "outputs": [
    {
     "data": {
      "text/plain": [
       "StructType([StructField('LocationID', StringType(), True), StructField('Borough', StringType(), True), StructField('Zone', StringType(), True), StructField('service_zone', StringType(), True)])"
      ]
     },
     "execution_count": 35,
     "metadata": {},
     "output_type": "execute_result"
    }
   ],
   "source": [
    "df_taxi_zone = spark.read\\\n",
    "    .option('header','True')\\\n",
    "    .csv('taxi_zone_lookup.csv')\n",
    "df_taxi_zone.schema"
   ]
  },
  {
   "cell_type": "code",
   "execution_count": 37,
   "id": "f2b6f05e-f320-4be8-8168-f152b3acd6f3",
   "metadata": {},
   "outputs": [
    {
     "name": "stdout",
     "output_type": "stream",
     "text": [
      "+----------+-------------+--------------------+------------+\n",
      "|LocationID|      Borough|                Zone|service_zone|\n",
      "+----------+-------------+--------------------+------------+\n",
      "|         1|          EWR|      Newark Airport|         EWR|\n",
      "|         2|       Queens|         Jamaica Bay|   Boro Zone|\n",
      "|         3|        Bronx|Allerton/Pelham G...|   Boro Zone|\n",
      "|         4|    Manhattan|       Alphabet City| Yellow Zone|\n",
      "|         5|Staten Island|       Arden Heights|   Boro Zone|\n",
      "+----------+-------------+--------------------+------------+\n",
      "only showing top 5 rows\n",
      "\n"
     ]
    }
   ],
   "source": [
    "df_taxi_zone.show(5)"
   ]
  },
  {
   "cell_type": "code",
   "execution_count": 41,
   "id": "fee26712-54b8-4be0-a061-bd7e113b5669",
   "metadata": {},
   "outputs": [],
   "source": [
    "df_taxi_zone_schema = types.StructType([\n",
    "    types.StructField('LocationID', types.IntegerType(), True), \n",
    "    types.StructField('Borough', types.StringType(), True), \n",
    "    types.StructField('Zone', types.StringType(), True), \n",
    "    types.StructField('service_zone', types.StringType(), True)\n",
    "])"
   ]
  },
  {
   "cell_type": "code",
   "execution_count": 43,
   "id": "c0dcc9f0-52d2-4a95-aaed-b0310034cc0a",
   "metadata": {},
   "outputs": [],
   "source": [
    "df_taxi_zone = spark.read\\\n",
    "         .option('header','True')\\\n",
    "         .schema(df_taxi_zone_schema)\\\n",
    "         .csv('taxi_zone_lookup.csv')"
   ]
  },
  {
   "cell_type": "code",
   "execution_count": 45,
   "id": "7973d498-41bf-4980-bbcd-cda608194718",
   "metadata": {},
   "outputs": [
    {
     "name": "stdout",
     "output_type": "stream",
     "text": [
      "+----------+-------------+--------------------+------------+\n",
      "|LocationID|      Borough|                Zone|service_zone|\n",
      "+----------+-------------+--------------------+------------+\n",
      "|         1|          EWR|      Newark Airport|         EWR|\n",
      "|         2|       Queens|         Jamaica Bay|   Boro Zone|\n",
      "|         3|        Bronx|Allerton/Pelham G...|   Boro Zone|\n",
      "|         4|    Manhattan|       Alphabet City| Yellow Zone|\n",
      "|         5|Staten Island|       Arden Heights|   Boro Zone|\n",
      "+----------+-------------+--------------------+------------+\n",
      "only showing top 5 rows\n",
      "\n"
     ]
    }
   ],
   "source": [
    "df_taxi_zone.show(5)"
   ]
  },
  {
   "cell_type": "code",
   "execution_count": 210,
   "id": "56b861ee-a93d-4d13-97fe-91bce85eca40",
   "metadata": {},
   "outputs": [],
   "source": [
    "df_taxi_zone.createOrReplaceTempView('taxi_zone_data')"
   ]
  },
  {
   "cell_type": "code",
   "execution_count": 213,
   "id": "3e89805e-ccb8-47a3-bdb5-5b906484bf83",
   "metadata": {},
   "outputs": [
    {
     "data": {
      "text/plain": [
       "StructType([StructField('dispatching_base_num', StringType(), True), StructField('pickup_datetime', TimestampType(), True), StructField('dropOff_datetime', TimestampType(), True), StructField('PUlocationID', IntegerType(), True), StructField('DOlocationID', IntegerType(), True), StructField('SR_Flag', StringType(), True), StructField('Affiliated_base_number', StringType(), True)])"
      ]
     },
     "execution_count": 213,
     "metadata": {},
     "output_type": "execute_result"
    }
   ],
   "source": [
    "df_fhv.schema"
   ]
  },
  {
   "cell_type": "code",
   "execution_count": 217,
   "id": "0dcbf167-d757-4b48-81bf-b3316f3896e8",
   "metadata": {},
   "outputs": [
    {
     "data": {
      "text/plain": [
       "StructType([StructField('LocationID', IntegerType(), True), StructField('Borough', StringType(), True), StructField('Zone', StringType(), True), StructField('service_zone', StringType(), True)])"
      ]
     },
     "execution_count": 217,
     "metadata": {},
     "output_type": "execute_result"
    }
   ],
   "source": [
    "df_taxi_zone.schema"
   ]
  },
  {
   "cell_type": "markdown",
   "id": "563d62e6-987a-464f-a5d0-af9083c08df9",
   "metadata": {},
   "source": [
    "````east frequent pickup location zone\n",
    "\n",
    "Load the zone lookup data into a temp view in Spark\n",
    "Zone Data\n",
    "\n",
    "Using the zone lookup data and the FHV October 2019 data, what is the name of the LEAST frequent pickup location Zone?\n",
    "````"
   ]
  },
  {
   "cell_type": "code",
   "execution_count": 253,
   "id": "12311f8f-a226-4c96-96cc-97d83ae58036",
   "metadata": {},
   "outputs": [
    {
     "name": "stdout",
     "output_type": "stream",
     "text": [
      "+-----------+------------+\n",
      "|pickup_zone|pickup_count|\n",
      "+-----------+------------+\n",
      "|Jamaica Bay|           1|\n",
      "+-----------+------------+\n",
      "only showing top 1 row\n",
      "\n"
     ]
    }
   ],
   "source": [
    "spark.sql(\"\"\"\n",
    "SELECT tz1.Zone pickup_zone, COUNT(*) pickup_count\n",
    "FROM fhv_trips_data , taxi_zone_data tz1 , taxi_zone_data tz2\n",
    "WHERE \n",
    "fhv_trips_data.PUlocationID  =   tz1.LocationID AND\n",
    "fhv_trips_data.DOlocationID  =   tz2.LocationID\n",
    "GROUP BY pickup_zone\n",
    "ORDER BY pickup_count ASC\n",
    "\"\"\").show(1)"
   ]
  },
  {
   "cell_type": "code",
   "execution_count": null,
   "id": "8253648b-64d7-444c-8571-cce5dc651802",
   "metadata": {},
   "outputs": [],
   "source": []
  }
 ],
 "metadata": {
  "kernelspec": {
   "display_name": "Python 3 (ipykernel)",
   "language": "python",
   "name": "python3"
  },
  "language_info": {
   "codemirror_mode": {
    "name": "ipython",
    "version": 3
   },
   "file_extension": ".py",
   "mimetype": "text/x-python",
   "name": "python",
   "nbconvert_exporter": "python",
   "pygments_lexer": "ipython3",
   "version": "3.9.18"
  }
 },
 "nbformat": 4,
 "nbformat_minor": 5
}
