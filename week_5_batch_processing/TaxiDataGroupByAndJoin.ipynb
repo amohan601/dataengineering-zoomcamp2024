{
 "cells": [
  {
   "cell_type": "code",
   "execution_count": 1,
   "id": "8456597d-4a89-4bfe-adbe-5a01b85d3a94",
   "metadata": {},
   "outputs": [],
   "source": [
    "import pyspark\n",
    "from pyspark.sql import SparkSession"
   ]
  },
  {
   "cell_type": "code",
   "execution_count": 3,
   "id": "7b1a79c2-4649-4861-8f9f-18e1afdfbdba",
   "metadata": {},
   "outputs": [
    {
     "name": "stderr",
     "output_type": "stream",
     "text": [
      "Setting default log level to \"WARN\".\n",
      "To adjust logging level use sc.setLogLevel(newLevel). For SparkR, use setLogLevel(newLevel).\n",
      "24/03/03 14:32:41 WARN NativeCodeLoader: Unable to load native-hadoop library for your platform... using builtin-java classes where applicable\n",
      "24/03/03 14:32:42 WARN Utils: Service 'SparkUI' could not bind on port 4040. Attempting port 4041.\n"
     ]
    }
   ],
   "source": [
    "spark = SparkSession.builder \\\n",
    "    .master(\"local[*]\") \\\n",
    "    .appName('taxi-data-groupby-test') \\\n",
    "    .getOrCreate()"
   ]
  },
  {
   "cell_type": "markdown",
   "id": "f61ee29c-a677-417a-b8bd-351cc1e5a55e",
   "metadata": {},
   "source": [
    "### green data"
   ]
  },
  {
   "cell_type": "code",
   "execution_count": 32,
   "id": "da68ad20-ed57-472d-b571-e33f672733d0",
   "metadata": {},
   "outputs": [],
   "source": [
    "df_green = spark.read.parquet('data/pq/green/*/*')"
   ]
  },
  {
   "cell_type": "code",
   "execution_count": 34,
   "id": "b6ba07ec-42e0-4478-8fa6-d1491a5d5ff8",
   "metadata": {},
   "outputs": [],
   "source": [
    "df_green.createOrReplaceTempView('green')\n"
   ]
  },
  {
   "cell_type": "code",
   "execution_count": 36,
   "id": "1e0d914b-57ab-466a-a85f-108a6dff1b26",
   "metadata": {},
   "outputs": [],
   "source": [
    "df_green_revenue = spark.sql(\"\"\"\n",
    "SELECT \n",
    "    date_trunc('hour', lpep_pickup_datetime) AS hour, \n",
    "    PULocationID AS zone,\n",
    "\n",
    "    SUM(total_amount) AS amount,\n",
    "    COUNT(1) AS number_records\n",
    "FROM\n",
    "    green\n",
    "WHERE\n",
    "    lpep_pickup_datetime >= '2020-01-01 00:00:00'\n",
    "GROUP BY\n",
    "    1, 2\n",
    "\"\"\")"
   ]
  },
  {
   "cell_type": "code",
   "execution_count": 38,
   "id": "b3d01ef8-df05-43f2-82bc-9e2447ed00ba",
   "metadata": {},
   "outputs": [
    {
     "name": "stderr",
     "output_type": "stream",
     "text": [
      "                                                                                \r"
     ]
    },
    {
     "name": "stdout",
     "output_type": "stream",
     "text": [
      "+-------------------+----+------------------+--------------+\n",
      "|               hour|zone|            amount|number_records|\n",
      "+-------------------+----+------------------+--------------+\n",
      "|2020-01-06 07:00:00| 241|            169.16|             6|\n",
      "|2020-01-19 19:00:00|  41| 457.2400000000003|            43|\n",
      "|2020-01-23 23:00:00| 129| 304.1300000000001|            22|\n",
      "|2020-01-28 15:00:00| 129|            208.23|             9|\n",
      "|2020-01-02 08:00:00|  74|1187.4199999999987|            96|\n",
      "|2020-01-06 16:00:00| 129|250.42000000000002|            15|\n",
      "|2020-01-07 10:00:00| 171|             38.98|             2|\n",
      "|2020-01-09 15:00:00| 260| 242.6800000000001|            19|\n",
      "|2020-01-16 20:00:00|  82| 424.1900000000001|            27|\n",
      "|2020-01-21 16:00:00|  33| 917.3599999999994|            38|\n",
      "|2020-01-08 17:00:00| 140|            313.81|             8|\n",
      "|2020-01-22 08:00:00| 244| 285.3999999999999|            14|\n",
      "|2020-01-30 14:00:00|  74| 738.6799999999996|            49|\n",
      "|2020-01-03 07:00:00|  74| 918.9199999999993|            66|\n",
      "|2020-01-11 13:00:00|  41| 859.2399999999992|            63|\n",
      "|2020-01-16 15:00:00|  65| 376.4800000000001|            17|\n",
      "|2020-01-15 17:00:00| 247|            121.57|             4|\n",
      "|2020-01-05 18:00:00|  97| 513.1700000000002|            42|\n",
      "|2020-01-03 11:00:00|  85|            162.22|             6|\n",
      "|2020-01-28 13:00:00|  58|62.269999999999996|             2|\n",
      "+-------------------+----+------------------+--------------+\n",
      "only showing top 20 rows\n",
      "\n"
     ]
    }
   ],
   "source": [
    "df_green_revenue.show()"
   ]
  },
  {
   "cell_type": "code",
   "execution_count": 40,
   "id": "71ea7dba-4752-406f-8947-14257dcc14da",
   "metadata": {},
   "outputs": [
    {
     "name": "stderr",
     "output_type": "stream",
     "text": [
      "24/03/02 22:27:02 WARN MemoryManager: Total allocation exceeds 95.00% (1,020,054,720 bytes) of heap memory\n",
      "Scaling row group sizes to 95.00% for 8 writers\n",
      "24/03/02 22:27:02 WARN MemoryManager: Total allocation exceeds 95.00% (1,020,054,720 bytes) of heap memory\n",
      "Scaling row group sizes to 95.00% for 8 writers\n",
      "                                                                                \r"
     ]
    }
   ],
   "source": [
    "df_green_revenue \\\n",
    "    .repartition(20) \\\n",
    "    .write.parquet('data/report/revenue/green', mode='overwrite')"
   ]
  },
  {
   "cell_type": "markdown",
   "id": "c4db3a55-d6d4-4e99-af48-e7f819cb4b3e",
   "metadata": {},
   "source": [
    "#### yellow data"
   ]
  },
  {
   "cell_type": "code",
   "execution_count": 42,
   "id": "e0e57396-56d6-4fdc-bb33-738588999c21",
   "metadata": {},
   "outputs": [],
   "source": [
    "df_yellow = spark.read.parquet('data/pq/yellow/*/*')\n",
    "df_yellow.registerTempTable('yellow')"
   ]
  },
  {
   "cell_type": "code",
   "execution_count": 44,
   "id": "5150a966-61cb-4836-88ca-8cbce81473eb",
   "metadata": {},
   "outputs": [],
   "source": [
    "df_yellow_revenue = spark.sql(\"\"\"\n",
    "SELECT \n",
    "    date_trunc('hour', tpep_pickup_datetime) AS hour, \n",
    "    PULocationID AS zone,\n",
    "\n",
    "    SUM(total_amount) AS amount,\n",
    "    COUNT(1) AS number_records\n",
    "FROM\n",
    "    yellow\n",
    "WHERE\n",
    "    tpep_pickup_datetime >= '2020-01-01 00:00:00'\n",
    "GROUP BY\n",
    "    1, 2\n",
    "\"\"\")"
   ]
  },
  {
   "cell_type": "code",
   "execution_count": 46,
   "id": "78ec82b2-b62a-4513-ae73-0cdb55e8cabb",
   "metadata": {},
   "outputs": [
    {
     "name": "stderr",
     "output_type": "stream",
     "text": [
      "[Stage 29:===================================================>    (11 + 1) / 12]\r"
     ]
    },
    {
     "name": "stdout",
     "output_type": "stream",
     "text": [
      "+-------------------+----+------------------+--------------+\n",
      "|               hour|zone|            amount|number_records|\n",
      "+-------------------+----+------------------+--------------+\n",
      "|2020-01-25 01:00:00| 186|2287.5599999999986|           128|\n",
      "|2020-01-24 07:00:00| 186| 7247.550000000012|           483|\n",
      "|2020-01-04 18:00:00| 161| 7807.060000000018|           487|\n",
      "|2020-01-03 12:00:00| 186| 7301.100000000017|           418|\n",
      "|2020-01-22 19:00:00| 140|           4461.66|           263|\n",
      "|2020-01-21 13:00:00| 162| 8327.450000000013|           491|\n",
      "|2020-01-06 20:00:00| 234|5267.8600000000015|           333|\n",
      "|2020-01-23 12:00:00| 233| 3545.589999999998|           184|\n",
      "|2020-01-15 13:00:00| 239| 4100.529999999999|           289|\n",
      "|2020-01-17 08:00:00| 170| 7410.990000000011|           475|\n",
      "|2020-01-22 21:00:00|  79| 6247.700000000006|           358|\n",
      "|2020-01-15 15:00:00| 239| 5217.580000000002|           344|\n",
      "|2020-01-11 18:00:00| 236| 9088.440000000017|           612|\n",
      "|2020-01-12 17:00:00| 237|6503.3900000000085|           480|\n",
      "|2020-01-03 13:00:00| 142| 5254.490000000004|           327|\n",
      "|2020-01-21 07:00:00| 152|            182.22|            10|\n",
      "|2020-01-18 21:00:00| 234|3880.4599999999964|           248|\n",
      "|2020-01-23 09:00:00| 142|           4948.51|           326|\n",
      "|2020-01-03 11:00:00| 132| 9066.160000000007|           177|\n",
      "|2020-01-21 20:00:00| 141|3764.1099999999956|           249|\n",
      "+-------------------+----+------------------+--------------+\n",
      "only showing top 20 rows\n",
      "\n"
     ]
    },
    {
     "name": "stderr",
     "output_type": "stream",
     "text": [
      "                                                                                \r"
     ]
    }
   ],
   "source": [
    "df_yellow_revenue.show()"
   ]
  },
  {
   "cell_type": "code",
   "execution_count": 48,
   "id": "bb3a052a-61f0-49cf-b818-354434538fad",
   "metadata": {},
   "outputs": [
    {
     "name": "stderr",
     "output_type": "stream",
     "text": [
      "24/03/02 22:27:28 WARN MemoryManager: Total allocation exceeds 95.00% (1,020,054,720 bytes) of heap memory\n",
      "Scaling row group sizes to 95.00% for 8 writers\n",
      "24/03/02 22:27:28 WARN MemoryManager: Total allocation exceeds 95.00% (1,020,054,720 bytes) of heap memory\n",
      "Scaling row group sizes to 95.00% for 8 writers\n",
      "                                                                                \r"
     ]
    }
   ],
   "source": [
    "df_yellow_revenue \\\n",
    "    .repartition(20) \\\n",
    "    .write.parquet('data/report/revenue/yellow', mode='overwrite')"
   ]
  },
  {
   "cell_type": "markdown",
   "id": "7f17777d-c81f-4fc0-b2b0-74ed7cd36724",
   "metadata": {},
   "source": [
    "### join two large tables"
   ]
  },
  {
   "cell_type": "code",
   "execution_count": 50,
   "id": "337cc1ac-ccf5-423b-a896-772608de089b",
   "metadata": {},
   "outputs": [],
   "source": [
    "df_green_revenue = spark.read.parquet('data/report/revenue/green')\n",
    "df_yellow_revenue = spark.read.parquet('data/report/revenue/yellow')"
   ]
  },
  {
   "cell_type": "code",
   "execution_count": 52,
   "id": "c1166149-1d2d-4bfc-b8f0-79a6043e5373",
   "metadata": {},
   "outputs": [],
   "source": [
    "df_green_revenue_tmp = df_green_revenue \\\n",
    "    .withColumnRenamed('amount', 'green_amount') \\\n",
    "    .withColumnRenamed('number_records', 'green_number_records')\n",
    "\n",
    "df_yellow_revenue_tmp = df_yellow_revenue \\\n",
    "    .withColumnRenamed('amount', 'yellow_amount') \\\n",
    "    .withColumnRenamed('number_records', 'yellow_number_records')"
   ]
  },
  {
   "cell_type": "code",
   "execution_count": 54,
   "id": "87b2d1c2-b0a7-45bd-b741-695473fab97f",
   "metadata": {},
   "outputs": [],
   "source": [
    "df_join = df_green_revenue_tmp.join(df_yellow_revenue_tmp, on=['hour', 'zone'], how='outer')"
   ]
  },
  {
   "cell_type": "code",
   "execution_count": 56,
   "id": "255eb44f-b307-4857-89e6-91552fd0ccb0",
   "metadata": {},
   "outputs": [
    {
     "name": "stderr",
     "output_type": "stream",
     "text": [
      "[Stage 41:================>                                         (2 + 5) / 7]\r"
     ]
    },
    {
     "name": "stdout",
     "output_type": "stream",
     "text": [
      "+-------------------+----+------------------+--------------------+------------------+---------------------+\n",
      "|               hour|zone|      green_amount|green_number_records|     yellow_amount|yellow_number_records|\n",
      "+-------------------+----+------------------+--------------------+------------------+---------------------+\n",
      "|2020-01-01 00:00:00|   4|              NULL|                NULL|1004.3000000000001|                   57|\n",
      "|2020-01-01 00:00:00|  10|              NULL|                NULL|             42.41|                    2|\n",
      "|2020-01-01 00:00:00|  56|             99.69|                   3|              18.1|                    2|\n",
      "|2020-01-01 00:00:00|  61|            526.71|                  17|            146.64|                    3|\n",
      "|2020-01-01 00:00:00|  65|199.49000000000004|                  10|            409.35|                   19|\n",
      "|2020-01-01 00:00:00|  74|317.09000000000015|                  24| 586.2100000000002|                   47|\n",
      "|2020-01-01 00:00:00|  88|              NULL|                NULL| 823.8000000000002|                   36|\n",
      "|2020-01-01 00:00:00| 114|              NULL|                NULL| 6256.430000000008|                  333|\n",
      "|2020-01-01 00:00:00| 116| 328.7600000000001|                  18| 561.5100000000001|                   34|\n",
      "|2020-01-01 00:00:00| 159|              13.8|                   1|              58.8|                    2|\n",
      "|2020-01-01 00:00:00| 165|             66.14|                   2|              NULL|                 NULL|\n",
      "|2020-01-01 00:00:00| 189|            102.75|                   7|126.00999999999999|                   10|\n",
      "|2020-01-01 00:00:00| 190|             61.97|                   4|              54.1|                    3|\n",
      "|2020-01-01 00:00:00| 216|            181.37|                   6|            100.32|                    3|\n",
      "|2020-01-01 00:00:00| 230|              NULL|                NULL|              24.8|                    1|\n",
      "|2020-01-01 00:00:00| 233|              NULL|                NULL|2028.8199999999988|                  121|\n",
      "|2020-01-01 00:00:00| 247|            117.66|                   5|               9.3|                    1|\n",
      "|2020-01-01 00:00:00| 248|              NULL|                NULL|              25.5|                    1|\n",
      "|2020-01-01 00:00:00| 249|              NULL|                NULL| 7790.170000000009|                  422|\n",
      "|2020-01-01 00:00:00| 255| 666.3399999999998|                  28| 537.6600000000001|                   27|\n",
      "+-------------------+----+------------------+--------------------+------------------+---------------------+\n",
      "only showing top 20 rows\n",
      "\n"
     ]
    },
    {
     "name": "stderr",
     "output_type": "stream",
     "text": [
      "                                                                                \r"
     ]
    }
   ],
   "source": [
    "df_join.show()"
   ]
  },
  {
   "cell_type": "code",
   "execution_count": 58,
   "id": "c699cee9-d8ab-4e01-826e-2992568240e0",
   "metadata": {},
   "outputs": [
    {
     "name": "stderr",
     "output_type": "stream",
     "text": [
      "24/03/02 22:54:16 WARN MemoryManager: Total allocation exceeds 95.00% (1,020,054,720 bytes) of heap memory\n",
      "Scaling row group sizes to 95.00% for 8 writers\n",
      "                                                                                \r"
     ]
    }
   ],
   "source": [
    "df_join.write.parquet('data/report/revenue/total', mode='overwrite')"
   ]
  },
  {
   "cell_type": "markdown",
   "id": "621d4d50-7b7e-489b-ae02-a4449712f567",
   "metadata": {},
   "source": [
    "### join large table with small table(zones)"
   ]
  },
  {
   "cell_type": "code",
   "execution_count": 60,
   "id": "3e0c7a8a-5108-422f-aabc-24747b565943",
   "metadata": {},
   "outputs": [],
   "source": [
    "df_zones = spark.read.parquet('zones/')"
   ]
  },
  {
   "cell_type": "code",
   "execution_count": 62,
   "id": "1088484a-31a3-4701-bd37-0f403b1e5505",
   "metadata": {},
   "outputs": [
    {
     "name": "stdout",
     "output_type": "stream",
     "text": [
      "+----------+-------------+--------------------+------------+\n",
      "|LocationID|      Borough|                Zone|service_zone|\n",
      "+----------+-------------+--------------------+------------+\n",
      "|         1|          EWR|      Newark Airport|         EWR|\n",
      "|         2|       Queens|         Jamaica Bay|   Boro Zone|\n",
      "|         3|        Bronx|Allerton/Pelham G...|   Boro Zone|\n",
      "|         4|    Manhattan|       Alphabet City| Yellow Zone|\n",
      "|         5|Staten Island|       Arden Heights|   Boro Zone|\n",
      "|         6|Staten Island|Arrochar/Fort Wad...|   Boro Zone|\n",
      "|         7|       Queens|             Astoria|   Boro Zone|\n",
      "|         8|       Queens|        Astoria Park|   Boro Zone|\n",
      "|         9|       Queens|          Auburndale|   Boro Zone|\n",
      "|        10|       Queens|        Baisley Park|   Boro Zone|\n",
      "|        11|     Brooklyn|          Bath Beach|   Boro Zone|\n",
      "|        12|    Manhattan|        Battery Park| Yellow Zone|\n",
      "|        13|    Manhattan|   Battery Park City| Yellow Zone|\n",
      "|        14|     Brooklyn|           Bay Ridge|   Boro Zone|\n",
      "|        15|       Queens|Bay Terrace/Fort ...|   Boro Zone|\n",
      "|        16|       Queens|             Bayside|   Boro Zone|\n",
      "|        17|     Brooklyn|             Bedford|   Boro Zone|\n",
      "|        18|        Bronx|        Bedford Park|   Boro Zone|\n",
      "|        19|       Queens|           Bellerose|   Boro Zone|\n",
      "|        20|        Bronx|             Belmont|   Boro Zone|\n",
      "+----------+-------------+--------------------+------------+\n",
      "only showing top 20 rows\n",
      "\n"
     ]
    }
   ],
   "source": [
    "df_zones.show()"
   ]
  },
  {
   "cell_type": "code",
   "execution_count": 64,
   "id": "1cdbe86a-88e2-4a2f-8407-a48bcb81d3bc",
   "metadata": {},
   "outputs": [],
   "source": [
    "df_result = df_join.join(df_zones, df_join.zone == df_zones.LocationID)"
   ]
  },
  {
   "cell_type": "code",
   "execution_count": 66,
   "id": "0fbde777-61ae-4e2c-93b2-e1659151ccea",
   "metadata": {},
   "outputs": [
    {
     "name": "stderr",
     "output_type": "stream",
     "text": [
      "[Stage 54:================>                                         (2 + 5) / 7]\r"
     ]
    },
    {
     "name": "stdout",
     "output_type": "stream",
     "text": [
      "+-------------------+----+------------------+--------------------+------------------+---------------------+----------+---------+--------------------+------------+\n",
      "|               hour|zone|      green_amount|green_number_records|     yellow_amount|yellow_number_records|LocationID|  Borough|                Zone|service_zone|\n",
      "+-------------------+----+------------------+--------------------+------------------+---------------------+----------+---------+--------------------+------------+\n",
      "|2020-01-01 00:00:00|   4|              NULL|                NULL|1004.3000000000001|                   57|         4|Manhattan|       Alphabet City| Yellow Zone|\n",
      "|2020-01-01 00:00:00|  10|              NULL|                NULL|             42.41|                    2|        10|   Queens|        Baisley Park|   Boro Zone|\n",
      "|2020-01-01 00:00:00|  56|             99.69|                   3|              18.1|                    2|        56|   Queens|              Corona|   Boro Zone|\n",
      "|2020-01-01 00:00:00|  61|            526.71|                  17|            146.64|                    3|        61| Brooklyn| Crown Heights North|   Boro Zone|\n",
      "|2020-01-01 00:00:00|  65|199.49000000000004|                  10|            409.35|                   19|        65| Brooklyn|Downtown Brooklyn...|   Boro Zone|\n",
      "|2020-01-01 00:00:00|  74|317.09000000000015|                  24| 586.2100000000002|                   47|        74|Manhattan|   East Harlem North|   Boro Zone|\n",
      "|2020-01-01 00:00:00|  88|              NULL|                NULL| 823.8000000000002|                   36|        88|Manhattan|Financial Distric...| Yellow Zone|\n",
      "|2020-01-01 00:00:00| 114|              NULL|                NULL| 6256.430000000008|                  333|       114|Manhattan|Greenwich Village...| Yellow Zone|\n",
      "|2020-01-01 00:00:00| 116| 328.7600000000001|                  18| 561.5100000000001|                   34|       116|Manhattan|    Hamilton Heights|   Boro Zone|\n",
      "|2020-01-01 00:00:00| 159|              13.8|                   1|              58.8|                    2|       159|    Bronx|       Melrose South|   Boro Zone|\n",
      "|2020-01-01 00:00:00| 165|             66.14|                   2|              NULL|                 NULL|       165| Brooklyn|             Midwood|   Boro Zone|\n",
      "|2020-01-01 00:00:00| 189|            102.75|                   7|126.00999999999999|                   10|       189| Brooklyn|    Prospect Heights|   Boro Zone|\n",
      "|2020-01-01 00:00:00| 190|             61.97|                   4|              54.1|                    3|       190| Brooklyn|       Prospect Park|   Boro Zone|\n",
      "|2020-01-01 00:00:00| 216|            181.37|                   6|            100.32|                    3|       216|   Queens|    South Ozone Park|   Boro Zone|\n",
      "|2020-01-01 00:00:00| 230|              NULL|                NULL|              24.8|                    1|       230|Manhattan|Times Sq/Theatre ...| Yellow Zone|\n",
      "|2020-01-01 00:00:00| 233|              NULL|                NULL|2028.8199999999988|                  121|       233|Manhattan| UN/Turtle Bay South| Yellow Zone|\n",
      "|2020-01-01 00:00:00| 247|            117.66|                   5|               9.3|                    1|       247|    Bronx|      West Concourse|   Boro Zone|\n",
      "|2020-01-01 00:00:00| 248|              NULL|                NULL|              25.5|                    1|       248|    Bronx|West Farms/Bronx ...|   Boro Zone|\n",
      "|2020-01-01 00:00:00| 249|              NULL|                NULL| 7790.170000000009|                  422|       249|Manhattan|        West Village| Yellow Zone|\n",
      "|2020-01-01 00:00:00| 255| 666.3399999999998|                  28| 537.6600000000001|                   27|       255| Brooklyn|Williamsburg (Nor...|   Boro Zone|\n",
      "+-------------------+----+------------------+--------------------+------------------+---------------------+----------+---------+--------------------+------------+\n",
      "only showing top 20 rows\n",
      "\n"
     ]
    },
    {
     "name": "stderr",
     "output_type": "stream",
     "text": [
      "                                                                                \r"
     ]
    }
   ],
   "source": [
    "df_result.show()"
   ]
  },
  {
   "cell_type": "code",
   "execution_count": 68,
   "id": "e95d098c-e834-4a0b-9d14-bf3846e657cf",
   "metadata": {},
   "outputs": [
    {
     "name": "stderr",
     "output_type": "stream",
     "text": [
      "[Stage 60:================>                                         (2 + 5) / 7]\r"
     ]
    },
    {
     "name": "stdout",
     "output_type": "stream",
     "text": [
      "+-------------------+------------------+--------------------+------------------+---------------------+---------+------------+\n",
      "|               hour|      green_amount|green_number_records|     yellow_amount|yellow_number_records|  Borough|service_zone|\n",
      "+-------------------+------------------+--------------------+------------------+---------------------+---------+------------+\n",
      "|2020-01-01 00:00:00|              NULL|                NULL|1004.3000000000001|                   57|Manhattan| Yellow Zone|\n",
      "|2020-01-01 00:00:00|              NULL|                NULL|             42.41|                    2|   Queens|   Boro Zone|\n",
      "|2020-01-01 00:00:00|             99.69|                   3|              18.1|                    2|   Queens|   Boro Zone|\n",
      "|2020-01-01 00:00:00|            526.71|                  17|            146.64|                    3| Brooklyn|   Boro Zone|\n",
      "|2020-01-01 00:00:00|199.49000000000004|                  10|            409.35|                   19| Brooklyn|   Boro Zone|\n",
      "|2020-01-01 00:00:00|317.09000000000015|                  24| 586.2100000000002|                   47|Manhattan|   Boro Zone|\n",
      "|2020-01-01 00:00:00|              NULL|                NULL| 823.8000000000002|                   36|Manhattan| Yellow Zone|\n",
      "|2020-01-01 00:00:00|              NULL|                NULL| 6256.430000000008|                  333|Manhattan| Yellow Zone|\n",
      "|2020-01-01 00:00:00| 328.7600000000001|                  18| 561.5100000000001|                   34|Manhattan|   Boro Zone|\n",
      "|2020-01-01 00:00:00|              13.8|                   1|              58.8|                    2|    Bronx|   Boro Zone|\n",
      "|2020-01-01 00:00:00|             66.14|                   2|              NULL|                 NULL| Brooklyn|   Boro Zone|\n",
      "|2020-01-01 00:00:00|            102.75|                   7|126.00999999999999|                   10| Brooklyn|   Boro Zone|\n",
      "|2020-01-01 00:00:00|             61.97|                   4|              54.1|                    3| Brooklyn|   Boro Zone|\n",
      "|2020-01-01 00:00:00|            181.37|                   6|            100.32|                    3|   Queens|   Boro Zone|\n",
      "|2020-01-01 00:00:00|              NULL|                NULL|              24.8|                    1|Manhattan| Yellow Zone|\n",
      "|2020-01-01 00:00:00|              NULL|                NULL|2028.8199999999988|                  121|Manhattan| Yellow Zone|\n",
      "|2020-01-01 00:00:00|            117.66|                   5|               9.3|                    1|    Bronx|   Boro Zone|\n",
      "|2020-01-01 00:00:00|              NULL|                NULL|              25.5|                    1|    Bronx|   Boro Zone|\n",
      "|2020-01-01 00:00:00|              NULL|                NULL| 7790.170000000009|                  422|Manhattan| Yellow Zone|\n",
      "|2020-01-01 00:00:00| 666.3399999999998|                  28| 537.6600000000001|                   27| Brooklyn|   Boro Zone|\n",
      "+-------------------+------------------+--------------------+------------------+---------------------+---------+------------+\n",
      "only showing top 20 rows\n",
      "\n"
     ]
    },
    {
     "name": "stderr",
     "output_type": "stream",
     "text": [
      "                                                                                \r"
     ]
    }
   ],
   "source": [
    "df_result.drop('LocationID', 'zone').show()"
   ]
  },
  {
   "cell_type": "code",
   "execution_count": 70,
   "id": "30f0e0b1-d357-4d3d-a274-4257aac015a1",
   "metadata": {},
   "outputs": [
    {
     "name": "stderr",
     "output_type": "stream",
     "text": [
      "24/03/02 22:55:53 WARN MemoryManager: Total allocation exceeds 95.00% (1,020,054,720 bytes) of heap memory\n",
      "Scaling row group sizes to 95.00% for 8 writers\n",
      "                                                                                \r"
     ]
    }
   ],
   "source": [
    "df_result.drop('LocationID', 'zone').write.parquet('tmp/revenue-zones')"
   ]
  },
  {
   "cell_type": "code",
   "execution_count": null,
   "id": "a6fa7575-f057-458a-9127-2f51b8fc051d",
   "metadata": {},
   "outputs": [],
   "source": []
  }
 ],
 "metadata": {
  "kernelspec": {
   "display_name": "Python 3 (ipykernel)",
   "language": "python",
   "name": "python3"
  },
  "language_info": {
   "codemirror_mode": {
    "name": "ipython",
    "version": 3
   },
   "file_extension": ".py",
   "mimetype": "text/x-python",
   "name": "python",
   "nbconvert_exporter": "python",
   "pygments_lexer": "ipython3",
   "version": "3.9.18"
  }
 },
 "nbformat": 4,
 "nbformat_minor": 5
}
